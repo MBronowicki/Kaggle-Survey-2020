{
 "cells": [
  {
   "cell_type": "markdown",
   "metadata": {},
   "source": [
    "# This notebook is an extention of my first project on Titanic Datasets\n",
    "\n",
    "1. The goal of this notebook is to improve score in Kaggle Leaderboard in Titanic Project, where our task is to predict whether a passenger survived or not from given sets of independent variables(features).\n",
    "2. Training and Test datasets has been cleaned from missing values and is ready for preprocess data for machine learning model\n",
    "3. In this notebook I want to try implement different aproach and see if that could improve the score."
   ]
  },
  {
   "cell_type": "code",
   "execution_count": 1,
   "metadata": {},
   "outputs": [],
   "source": [
    "# Import necessary libraries\n",
    "import pandas as pd\n",
    "import numpy as np\n",
    "\n",
    "# For visualization\n",
    "import matplotlib as mpl\n",
    "import seaborn as sns\n",
    "import matplotlib.pyplot as plt\n",
    "\n",
    "mpl.rcParams[\"patch.force_edgecolor\"]=True\n",
    "plt.style.use(\"seaborn-darkgrid\")\n",
    "%matplotlib inline\n",
    "\n",
    "\n",
    "# Preprocessing\n",
    "from sklearn.preprocessing import OneHotEncoder, MinMaxScaler, LabelEncoder, StandardScaler\n",
    "from sklearn.compose import ColumnTransformer\n",
    "\n",
    "# Metrics\n",
    "from sklearn.metrics import accuracy_score\n",
    "from sklearn.model_selection import cross_val_predict\n",
    "\n",
    "# Models\n",
    "from sklearn.ensemble import GradientBoostingClassifier\n",
    "from sklearn.ensemble import RandomForestClassifier\n",
    "from catboost import CatBoostClassifier, Pool, cv\n",
    "\n",
    "# Evaluation\n",
    "from sklearn.model_selection import GridSearchCV, cross_val_predict, cross_val_score"
   ]
  },
  {
   "cell_type": "markdown",
   "metadata": {},
   "source": [
    "Let's import my datasets and check head for them"
   ]
  },
  {
   "cell_type": "code",
   "execution_count": 2,
   "metadata": {},
   "outputs": [
    {
     "data": {
      "text/html": [
       "<div>\n",
       "<style scoped>\n",
       "    .dataframe tbody tr th:only-of-type {\n",
       "        vertical-align: middle;\n",
       "    }\n",
       "\n",
       "    .dataframe tbody tr th {\n",
       "        vertical-align: top;\n",
       "    }\n",
       "\n",
       "    .dataframe thead th {\n",
       "        text-align: right;\n",
       "    }\n",
       "</style>\n",
       "<table border=\"1\" class=\"dataframe\">\n",
       "  <thead>\n",
       "    <tr style=\"text-align: right;\">\n",
       "      <th></th>\n",
       "      <th>Survived</th>\n",
       "      <th>Pclass</th>\n",
       "      <th>Age</th>\n",
       "      <th>SibSp</th>\n",
       "      <th>Parch</th>\n",
       "      <th>Fare</th>\n",
       "      <th>Embarked</th>\n",
       "      <th>Title</th>\n",
       "      <th>Person</th>\n",
       "    </tr>\n",
       "  </thead>\n",
       "  <tbody>\n",
       "    <tr>\n",
       "      <th>0</th>\n",
       "      <td>0</td>\n",
       "      <td>3</td>\n",
       "      <td>22.0</td>\n",
       "      <td>1</td>\n",
       "      <td>0</td>\n",
       "      <td>7.2500</td>\n",
       "      <td>S</td>\n",
       "      <td>Mr</td>\n",
       "      <td>male</td>\n",
       "    </tr>\n",
       "    <tr>\n",
       "      <th>1</th>\n",
       "      <td>1</td>\n",
       "      <td>1</td>\n",
       "      <td>38.0</td>\n",
       "      <td>1</td>\n",
       "      <td>0</td>\n",
       "      <td>71.2833</td>\n",
       "      <td>C</td>\n",
       "      <td>Mrs</td>\n",
       "      <td>female</td>\n",
       "    </tr>\n",
       "    <tr>\n",
       "      <th>2</th>\n",
       "      <td>1</td>\n",
       "      <td>3</td>\n",
       "      <td>26.0</td>\n",
       "      <td>0</td>\n",
       "      <td>0</td>\n",
       "      <td>7.9250</td>\n",
       "      <td>S</td>\n",
       "      <td>Miss</td>\n",
       "      <td>female</td>\n",
       "    </tr>\n",
       "    <tr>\n",
       "      <th>3</th>\n",
       "      <td>1</td>\n",
       "      <td>1</td>\n",
       "      <td>35.0</td>\n",
       "      <td>1</td>\n",
       "      <td>0</td>\n",
       "      <td>53.1000</td>\n",
       "      <td>S</td>\n",
       "      <td>Mrs</td>\n",
       "      <td>female</td>\n",
       "    </tr>\n",
       "    <tr>\n",
       "      <th>4</th>\n",
       "      <td>0</td>\n",
       "      <td>3</td>\n",
       "      <td>35.0</td>\n",
       "      <td>0</td>\n",
       "      <td>0</td>\n",
       "      <td>8.0500</td>\n",
       "      <td>S</td>\n",
       "      <td>Mr</td>\n",
       "      <td>male</td>\n",
       "    </tr>\n",
       "  </tbody>\n",
       "</table>\n",
       "</div>"
      ],
      "text/plain": [
       "   Survived  Pclass   Age  SibSp  Parch     Fare Embarked Title  Person\n",
       "0         0       3  22.0      1      0   7.2500        S    Mr    male\n",
       "1         1       1  38.0      1      0  71.2833        C   Mrs  female\n",
       "2         1       3  26.0      0      0   7.9250        S  Miss  female\n",
       "3         1       1  35.0      1      0  53.1000        S   Mrs  female\n",
       "4         0       3  35.0      0      0   8.0500        S    Mr    male"
      ]
     },
     "execution_count": 2,
     "metadata": {},
     "output_type": "execute_result"
    }
   ],
   "source": [
    "train = pd.read_csv(\"data/train_no_missing_values.csv\")\n",
    "train2 = train.copy() # copy used with OneHotEncoder\n",
    "train.head()"
   ]
  },
  {
   "cell_type": "code",
   "execution_count": 3,
   "metadata": {},
   "outputs": [
    {
     "data": {
      "text/html": [
       "<div>\n",
       "<style scoped>\n",
       "    .dataframe tbody tr th:only-of-type {\n",
       "        vertical-align: middle;\n",
       "    }\n",
       "\n",
       "    .dataframe tbody tr th {\n",
       "        vertical-align: top;\n",
       "    }\n",
       "\n",
       "    .dataframe thead th {\n",
       "        text-align: right;\n",
       "    }\n",
       "</style>\n",
       "<table border=\"1\" class=\"dataframe\">\n",
       "  <thead>\n",
       "    <tr style=\"text-align: right;\">\n",
       "      <th></th>\n",
       "      <th>PassengerId</th>\n",
       "      <th>Pclass</th>\n",
       "      <th>Age</th>\n",
       "      <th>SibSp</th>\n",
       "      <th>Parch</th>\n",
       "      <th>Fare</th>\n",
       "      <th>Embarked</th>\n",
       "      <th>Title</th>\n",
       "      <th>Person</th>\n",
       "    </tr>\n",
       "  </thead>\n",
       "  <tbody>\n",
       "    <tr>\n",
       "      <th>0</th>\n",
       "      <td>892</td>\n",
       "      <td>3</td>\n",
       "      <td>34.5</td>\n",
       "      <td>0</td>\n",
       "      <td>0</td>\n",
       "      <td>7.8292</td>\n",
       "      <td>Q</td>\n",
       "      <td>Mr</td>\n",
       "      <td>male</td>\n",
       "    </tr>\n",
       "    <tr>\n",
       "      <th>1</th>\n",
       "      <td>893</td>\n",
       "      <td>3</td>\n",
       "      <td>47.0</td>\n",
       "      <td>1</td>\n",
       "      <td>0</td>\n",
       "      <td>7.0000</td>\n",
       "      <td>S</td>\n",
       "      <td>Mrs</td>\n",
       "      <td>female</td>\n",
       "    </tr>\n",
       "    <tr>\n",
       "      <th>2</th>\n",
       "      <td>894</td>\n",
       "      <td>2</td>\n",
       "      <td>62.0</td>\n",
       "      <td>0</td>\n",
       "      <td>0</td>\n",
       "      <td>9.6875</td>\n",
       "      <td>Q</td>\n",
       "      <td>Mr</td>\n",
       "      <td>male</td>\n",
       "    </tr>\n",
       "    <tr>\n",
       "      <th>3</th>\n",
       "      <td>895</td>\n",
       "      <td>3</td>\n",
       "      <td>27.0</td>\n",
       "      <td>0</td>\n",
       "      <td>0</td>\n",
       "      <td>8.6625</td>\n",
       "      <td>S</td>\n",
       "      <td>Mr</td>\n",
       "      <td>male</td>\n",
       "    </tr>\n",
       "    <tr>\n",
       "      <th>4</th>\n",
       "      <td>896</td>\n",
       "      <td>3</td>\n",
       "      <td>22.0</td>\n",
       "      <td>1</td>\n",
       "      <td>1</td>\n",
       "      <td>12.2875</td>\n",
       "      <td>S</td>\n",
       "      <td>Mrs</td>\n",
       "      <td>female</td>\n",
       "    </tr>\n",
       "  </tbody>\n",
       "</table>\n",
       "</div>"
      ],
      "text/plain": [
       "   PassengerId  Pclass   Age  SibSp  Parch     Fare Embarked Title  Person\n",
       "0          892       3  34.5      0      0   7.8292        Q    Mr    male\n",
       "1          893       3  47.0      1      0   7.0000        S   Mrs  female\n",
       "2          894       2  62.0      0      0   9.6875        Q    Mr    male\n",
       "3          895       3  27.0      0      0   8.6625        S    Mr    male\n",
       "4          896       3  22.0      1      1  12.2875        S   Mrs  female"
      ]
     },
     "execution_count": 3,
     "metadata": {},
     "output_type": "execute_result"
    }
   ],
   "source": [
    "test = pd.read_csv(\"data/test_no_missing_values.csv\")\n",
    "test2 = test.copy() # Copy used with OneHotEncoder\n",
    "test.head()"
   ]
  },
  {
   "cell_type": "code",
   "execution_count": 4,
   "metadata": {},
   "outputs": [
    {
     "data": {
      "text/html": [
       "<div>\n",
       "<style scoped>\n",
       "    .dataframe tbody tr th:only-of-type {\n",
       "        vertical-align: middle;\n",
       "    }\n",
       "\n",
       "    .dataframe tbody tr th {\n",
       "        vertical-align: top;\n",
       "    }\n",
       "\n",
       "    .dataframe thead th {\n",
       "        text-align: right;\n",
       "    }\n",
       "</style>\n",
       "<table border=\"1\" class=\"dataframe\">\n",
       "  <thead>\n",
       "    <tr style=\"text-align: right;\">\n",
       "      <th></th>\n",
       "      <th>Pclass</th>\n",
       "      <th>Age</th>\n",
       "      <th>SibSp</th>\n",
       "      <th>Parch</th>\n",
       "      <th>Fare</th>\n",
       "      <th>Embarked</th>\n",
       "      <th>Title</th>\n",
       "      <th>Person</th>\n",
       "    </tr>\n",
       "  </thead>\n",
       "  <tbody>\n",
       "    <tr>\n",
       "      <th>0</th>\n",
       "      <td>3</td>\n",
       "      <td>34.5</td>\n",
       "      <td>0</td>\n",
       "      <td>0</td>\n",
       "      <td>7.8292</td>\n",
       "      <td>Q</td>\n",
       "      <td>Mr</td>\n",
       "      <td>male</td>\n",
       "    </tr>\n",
       "    <tr>\n",
       "      <th>1</th>\n",
       "      <td>3</td>\n",
       "      <td>47.0</td>\n",
       "      <td>1</td>\n",
       "      <td>0</td>\n",
       "      <td>7.0000</td>\n",
       "      <td>S</td>\n",
       "      <td>Mrs</td>\n",
       "      <td>female</td>\n",
       "    </tr>\n",
       "    <tr>\n",
       "      <th>2</th>\n",
       "      <td>2</td>\n",
       "      <td>62.0</td>\n",
       "      <td>0</td>\n",
       "      <td>0</td>\n",
       "      <td>9.6875</td>\n",
       "      <td>Q</td>\n",
       "      <td>Mr</td>\n",
       "      <td>male</td>\n",
       "    </tr>\n",
       "    <tr>\n",
       "      <th>3</th>\n",
       "      <td>3</td>\n",
       "      <td>27.0</td>\n",
       "      <td>0</td>\n",
       "      <td>0</td>\n",
       "      <td>8.6625</td>\n",
       "      <td>S</td>\n",
       "      <td>Mr</td>\n",
       "      <td>male</td>\n",
       "    </tr>\n",
       "    <tr>\n",
       "      <th>4</th>\n",
       "      <td>3</td>\n",
       "      <td>22.0</td>\n",
       "      <td>1</td>\n",
       "      <td>1</td>\n",
       "      <td>12.2875</td>\n",
       "      <td>S</td>\n",
       "      <td>Mrs</td>\n",
       "      <td>female</td>\n",
       "    </tr>\n",
       "  </tbody>\n",
       "</table>\n",
       "</div>"
      ],
      "text/plain": [
       "   Pclass   Age  SibSp  Parch     Fare Embarked Title  Person\n",
       "0       3  34.5      0      0   7.8292        Q    Mr    male\n",
       "1       3  47.0      1      0   7.0000        S   Mrs  female\n",
       "2       2  62.0      0      0   9.6875        Q    Mr    male\n",
       "3       3  27.0      0      0   8.6625        S    Mr    male\n",
       "4       3  22.0      1      1  12.2875        S   Mrs  female"
      ]
     },
     "execution_count": 4,
     "metadata": {},
     "output_type": "execute_result"
    }
   ],
   "source": [
    "# Make a copy of Passenger column for submission\n",
    "passengerId = test[\"PassengerId\"]\n",
    "# Drop Passenger column from dataframe\n",
    "test.drop([\"PassengerId\"], axis=1, inplace=True)\n",
    "# Create copy of dataframe to the X_test variable\n",
    "X_test = test.copy()\n",
    "# Check the head of dataframe\n",
    "X_test.head()"
   ]
  },
  {
   "cell_type": "markdown",
   "metadata": {},
   "source": [
    "**Create X_train and y_train**"
   ]
  },
  {
   "cell_type": "code",
   "execution_count": null,
   "metadata": {},
   "outputs": [],
   "source": [
    "X_train = train.drop([\"Survived\"], axis=1)\n",
    "y_train = train[\"Survived\"]  # our true label"
   ]
  },
  {
   "cell_type": "markdown",
   "metadata": {},
   "source": [
    "When I did EDA on Titanic dataset in previous notebook I found out that data disribution of this column is skewed to the right because there are few outliers. I want to check if by normalize this column will improve the model\n",
    "\n",
    "As both X_train and X_test have to be identical I'll do all the preprocessing for both."
   ]
  },
  {
   "cell_type": "code",
   "execution_count": null,
   "metadata": {},
   "outputs": [],
   "source": [
    "train.Fare.plot.hist();"
   ]
  },
  {
   "cell_type": "code",
   "execution_count": null,
   "metadata": {},
   "outputs": [],
   "source": [
    "X_train.head()"
   ]
  },
  {
   "cell_type": "code",
   "execution_count": null,
   "metadata": {},
   "outputs": [],
   "source": [
    "X_test.head()"
   ]
  },
  {
   "cell_type": "code",
   "execution_count": null,
   "metadata": {},
   "outputs": [],
   "source": [
    "# Normalize column Fare in X_train dataframe\n",
    "X_train[\"Fare\"] = MinMaxScaler().fit_transform(X_train[[\"Fare\"]])\n",
    "X_train[\"Age\"] = MinMaxScaler().fit_transform(X_train[[\"Age\"]])"
   ]
  },
  {
   "cell_type": "code",
   "execution_count": null,
   "metadata": {},
   "outputs": [],
   "source": [
    "# Normalize column Fare X_test dataframe\n",
    "X_test[\"Fare\"] = MinMaxScaler().fit_transform(X_test[[\"Fare\"]])\n",
    "X_test[\"Age\"] = MinMaxScaler().fit_transform(X_test[[\"Age\"]])"
   ]
  },
  {
   "cell_type": "code",
   "execution_count": null,
   "metadata": {},
   "outputs": [],
   "source": [
    "X_train.head()"
   ]
  },
  {
   "cell_type": "code",
   "execution_count": null,
   "metadata": {},
   "outputs": [],
   "source": [
    "# Concatinate SibSp and Parch and create new column\n",
    "X_train[\"Family\"] = X_train[\"SibSp\"] + X_train[\"Parch\"]\n",
    "X_test[\"Family\"] = X_test[\"SibSp\"] + X_test[\"Parch\"]"
   ]
  },
  {
   "cell_type": "code",
   "execution_count": null,
   "metadata": {},
   "outputs": [],
   "source": [
    "X_train.head()"
   ]
  },
  {
   "cell_type": "code",
   "execution_count": null,
   "metadata": {},
   "outputs": [],
   "source": [
    "# Drop Embarked, SibSp, Parch Column\n",
    "X_train = X_train.drop([\"SibSp\", \"Parch\"], axis=1)\n",
    "X_test = X_test.drop([\"SibSp\", \"Parch\"], axis=1)"
   ]
  },
  {
   "cell_type": "code",
   "execution_count": null,
   "metadata": {},
   "outputs": [],
   "source": [
    "X_train.head()"
   ]
  },
  {
   "cell_type": "code",
   "execution_count": null,
   "metadata": {},
   "outputs": [],
   "source": [
    "X_train.dtypes"
   ]
  },
  {
   "cell_type": "code",
   "execution_count": null,
   "metadata": {},
   "outputs": [],
   "source": [
    "col_list = [\"Pclass\",\"Title\",\"Family\",\"Embarked\",\"Person\"]"
   ]
  },
  {
   "cell_type": "markdown",
   "metadata": {},
   "source": [
    "Now, let's turn categorical into numbers"
   ]
  },
  {
   "cell_type": "code",
   "execution_count": null,
   "metadata": {},
   "outputs": [],
   "source": [
    "pd.get_dummies(data=X_test,\n",
    "               prefix=col_list,\n",
    "               columns=col_list,drop_first=True)"
   ]
  },
  {
   "cell_type": "code",
   "execution_count": null,
   "metadata": {},
   "outputs": [],
   "source": [
    "# For column in X_train dataframe\n",
    "X_train_dm = pd.get_dummies(data=X_train,\n",
    "                            prefix=col_list,\n",
    "                            columns=col_list,\n",
    "                            drop_first=True)\n",
    "# For column in X_test dataframe\n",
    "X_test_dm = pd.get_dummies(data=X_test,\n",
    "                           prefix=col_list,\n",
    "                           columns=col_list,\n",
    "                           drop_first=True)"
   ]
  },
  {
   "cell_type": "code",
   "execution_count": null,
   "metadata": {},
   "outputs": [],
   "source": [
    "X_train_dm.head()"
   ]
  },
  {
   "cell_type": "code",
   "execution_count": null,
   "metadata": {},
   "outputs": [],
   "source": [
    "# X_test = pd.get_dummies(X_test, drop_first=True)"
   ]
  },
  {
   "cell_type": "code",
   "execution_count": null,
   "metadata": {},
   "outputs": [],
   "source": [
    "# Create Base model\n",
    "clf_model = GradientBoostingClassifier(random_state=45).fit(X_train_dm, y_train)\n",
    "\n",
    "# Accuracy\n",
    "acc_clf = round(clf_model.score(X_train_dm, y_train)*100,2)\n",
    "\n",
    "# Cross Validation with 10-folds\n",
    "train_pred = cross_val_predict(clf_model,\n",
    "                               X_train_dm,\n",
    "                               y_train,\n",
    "                               n_jobs=-1,\n",
    "                               cv=10)\n",
    "\n",
    "acc_cv_clf = round(accuracy_score(y_train, train_pred)*100,2)\n",
    "\n",
    "print(f\"Base Accuracy: {acc_clf}\")\n",
    "print(f\"Base Accuracy with cv=10: {acc_cv_clf} \")"
   ]
  },
  {
   "cell_type": "code",
   "execution_count": null,
   "metadata": {},
   "outputs": [],
   "source": [
    "clf_model.get_params"
   ]
  },
  {
   "cell_type": "markdown",
   "metadata": {},
   "source": [
    "Let' improve our model by tuning hyperparameters, but first use GridSearchCV to find best parameters"
   ]
  },
  {
   "cell_type": "code",
   "execution_count": null,
   "metadata": {},
   "outputs": [],
   "source": [
    "# Parameters\n",
    "clf_params_gs = {\"n_estimators\": np.arange(10,120, 10),\n",
    "                 \"min_samples_split\": np.arange(2,20, 2),\n",
    "                 \"min_samples_leaf\": [1,2,4],\n",
    "                 \"max_depth\": [2,3,4],\n",
    "                 \"max_features\": [\"auto\", \"sqrt\",\"log2\"]}\n",
    "\n",
    "# Instantiate GridSearchCV\n",
    "clf_grid = GridSearchCV(clf_model,\n",
    "                        param_grid=clf_params_gs,\n",
    "                        scoring=\"accuracy\",\n",
    "                        verbose=1,\n",
    "                        n_jobs=-1,\n",
    "                        cv=3)\n",
    "# Fit GridSearchCV\n",
    "clf_grid.fit(X_train_dm, y_train)"
   ]
  },
  {
   "cell_type": "markdown",
   "metadata": {},
   "source": [
    "**Best hyperparameters found with GridSearchCV**"
   ]
  },
  {
   "cell_type": "code",
   "execution_count": null,
   "metadata": {},
   "outputs": [],
   "source": [
    "clf_grid.best_params_"
   ]
  },
  {
   "cell_type": "code",
   "execution_count": null,
   "metadata": {},
   "outputs": [],
   "source": [
    "clf_grid.best_score_"
   ]
  },
  {
   "cell_type": "code",
   "execution_count": null,
   "metadata": {},
   "outputs": [],
   "source": [
    "best_clf_model = GradientBoostingClassifier(n_estimators=100,\n",
    "                                            max_features=\"auto\",\n",
    "                                            min_samples_split=16,\n",
    "                                            min_samples_leaf=2,\n",
    "                                            random_state=45,\n",
    "                                            max_depth=3)\n",
    "\n",
    "# Fit model\n",
    "best_clf_model.fit(X_train_dm, y_train)\n",
    "# Best prediction parameters model\n",
    "gbc_predictions = best_clf_model.predict(X_test_dm)\n",
    "\n",
    "# Cross Validation \n",
    "best_cv_pred = cross_val_predict(best_clf_model,\n",
    "                                 X_train_dm,\n",
    "                                 y_train,\n",
    "                                 n_jobs=-1,\n",
    "                                 cv=10)\n",
    "# Accuracy score\n",
    "clf_cv_acc = round(accuracy_score(y_train, best_cv_pred)*100, 2)\n",
    "clf_cv_acc"
   ]
  },
  {
   "cell_type": "markdown",
   "metadata": {},
   "source": [
    "**Get proba and set threshold**"
   ]
  },
  {
   "cell_type": "code",
   "execution_count": null,
   "metadata": {},
   "outputs": [],
   "source": [
    "gbc_cv_proba = cross_val_predict(best_clf_model,\n",
    "                                 X_train_dm,\n",
    "                                 y_train,\n",
    "                                 method=\"predict_proba\",\n",
    "                                 n_jobs=-1,\n",
    "                                 cv=10)"
   ]
  },
  {
   "cell_type": "code",
   "execution_count": null,
   "metadata": {},
   "outputs": [],
   "source": [
    "# Classification based on probabilities values\n",
    "gbc_y_prob = gbc_cv_proba[:,1]\n",
    "\n",
    "y_new_pred = []\n",
    "threshold = 0.7\n",
    "\n",
    "for i in range(0, len(gbc_y_prob)):\n",
    "    if gbc_y_prob[i] > threshold:\n",
    "        y_new_pred.append(1)\n",
    "    else:\n",
    "        y_new_pred.append(0)"
   ]
  },
  {
   "cell_type": "code",
   "execution_count": null,
   "metadata": {},
   "outputs": [],
   "source": [
    "new_acc_gbc = round(accuracy_score(y_train, y_new_pred)*100,2)\n",
    "new_acc_gbc"
   ]
  },
  {
   "cell_type": "markdown",
   "metadata": {},
   "source": [
    "**Random Forest Classifier**"
   ]
  },
  {
   "cell_type": "code",
   "execution_count": null,
   "metadata": {},
   "outputs": [],
   "source": [
    "# Base model\n",
    "rfc_model = RandomForestClassifier(random_state=45).fit(X_train_dm, y_train)\n",
    "# Accuracy for model ran ones\n",
    "rfc_acc = round(rfc_model.score(X_train_dm, y_train)*100,2)\n",
    "# Cross validation\n",
    "rfc_pred = cross_val_predict(rfc_model,\n",
    "                             X_train_dm,\n",
    "                             y_train,\n",
    "                             n_jobs=-1,\n",
    "                             cv=10)\n",
    "\n",
    "# Accuracy for model with cross validation 10\n",
    "rfc_cv_acc = round(accuracy_score(y_train, rfc_pred)*100,2)\n",
    "\n",
    "\n",
    "print(f\"Base Random Forest accuracy: {rfc_acc}%\")\n",
    "print(f\"Base Random Forest accuracy with cv=10: {rfc_cv_acc}\")"
   ]
  },
  {
   "cell_type": "markdown",
   "metadata": {},
   "source": [
    "Let's see if we can improve model"
   ]
  },
  {
   "cell_type": "code",
   "execution_count": null,
   "metadata": {},
   "outputs": [],
   "source": [
    "rfc_params = {\"n_estimators\": np.arange(10,120, 10),\n",
    "                 \"min_samples_split\": np.arange(2,20, 2),\n",
    "                 \"min_samples_leaf\": [1,2,4],\n",
    "                 \"max_depth\": [2,3,4],\n",
    "                 \"max_features\": [\"auto\", \"sqrt\",\"log2\"]}\n",
    "\n",
    "# Instantiate GridSearchCV\n",
    "rfc_grid = GridSearchCV(rfc_model,\n",
    "                        param_grid=rfc_params,\n",
    "                        scoring=\"accuracy\",\n",
    "                        verbose=1,\n",
    "                        n_jobs=-1,\n",
    "                        cv=3)\n",
    "# Fit GridsearchCV\n",
    "rfc_grid.fit(X_train_dm, y_train)"
   ]
  },
  {
   "cell_type": "code",
   "execution_count": null,
   "metadata": {},
   "outputs": [],
   "source": [
    "rfc_grid.best_params_"
   ]
  },
  {
   "cell_type": "code",
   "execution_count": null,
   "metadata": {},
   "outputs": [],
   "source": [
    "rfc_grid.best_score_"
   ]
  },
  {
   "cell_type": "markdown",
   "metadata": {},
   "source": [
    "Best hyperparameters for Random Forest Classifier found with GridSearchCV"
   ]
  },
  {
   "cell_type": "code",
   "execution_count": null,
   "metadata": {},
   "outputs": [],
   "source": [
    "# Instantiate model\n",
    "best_rfc_model = RandomForestClassifier(n_estimators=30,\n",
    "                                        # class_weight=\"balanced\",\n",
    "                                        max_features=\"auto\",\n",
    "                                        min_samples_split=12,\n",
    "                                        min_samples_leaf=2,\n",
    "                                        random_state=45,\n",
    "                                        max_depth=4)\n",
    "# Fit data\n",
    "best_rfc_model.fit(X_train_dm, y_train)\n",
    "\n",
    "# Accuracy with best parameters\n",
    "best_acc = round(best_clf_model.score(X_train_dm, y_train)*100,2)\n",
    "\n",
    "# Accuracy with cross validation\n",
    "rfc_pred = cross_val_predict(best_rfc_model,\n",
    "                             X_train_dm,\n",
    "                             y_train,\n",
    "                             n_jobs=-1,\n",
    "                             cv=10)\n",
    "\n",
    "# Cross validation score\n",
    "rfc_cv_acc = round(accuracy_score(y_train, rfc_pred)*100,2)\n",
    "\n",
    "print(f\"Best Accuracy: {best_acc}%\")\n",
    "print(f\"Best Accuracy: {rfc_cv_acc}%\")"
   ]
  },
  {
   "cell_type": "markdown",
   "metadata": {},
   "source": [
    "**CatBoost**"
   ]
  },
  {
   "cell_type": "code",
   "execution_count": null,
   "metadata": {},
   "outputs": [],
   "source": [
    "cat_feature = np.where(X_train_dm.dtypes !=np.float)[0]\n",
    "\n",
    "train_pool = Pool(X_train_dm, \n",
    "                  y_train,\n",
    "                  cat_feature)\n",
    "\n",
    "catboost_model = CatBoostClassifier(iterations=1000,\n",
    "                                    custom_loss=[\"Accuracy\"],\n",
    "                                    loss_function=\"Logloss\")\n",
    "\n",
    "catboost_model.fit(train_pool, plot=True)\n",
    "\n",
    "acc_catboost = round(catboost_model.score(X_train_dm, y_train)*100, 2)\n",
    "acc_catboost"
   ]
  },
  {
   "cell_type": "code",
   "execution_count": null,
   "metadata": {},
   "outputs": [],
   "source": [
    "acc_catboost"
   ]
  },
  {
   "cell_type": "code",
   "execution_count": null,
   "metadata": {},
   "outputs": [],
   "source": [
    "# Run Cross validation for 10 folds\n",
    "cv_params = catboost_model.get_params()\n",
    "\n",
    "cv_data = cv(train_pool, \n",
    "             cv_params,\n",
    "             fold_count=10,\n",
    "             plot=False)\n",
    "\n",
    "# Accuracy score\n",
    "cat_cv_acc = round(np.max(cv_data[\"test-Accuracy-mean\"])*100, 2)"
   ]
  },
  {
   "cell_type": "code",
   "execution_count": null,
   "metadata": {},
   "outputs": [],
   "source": [
    "# Create a table with all scores\n",
    "models = pd.DataFrame({\n",
    "    \"Model\": [\"Gradient Boost\",\"Random Forest\", \"CatBoost\"],\n",
    "    \"Score\": [clf_cv_acc, \n",
    "              rfc_cv_acc, \n",
    "              cat_cv_acc]\n",
    "})\n",
    "\n",
    "models.sort_values(by=\"Score\", \n",
    "                   ascending=False,\n",
    "                   ignore_index=True)"
   ]
  },
  {
   "cell_type": "code",
   "execution_count": null,
   "metadata": {},
   "outputs": [],
   "source": [
    "def plot_feature_importance(models, data):\n",
    "    \"\"\"\n",
    "    Function creates plots for given list of models\n",
    "    \"\"\"\n",
    "    for model in models:\n",
    "        # Create dictionary with model and their feature importance\n",
    "        feat_imp = pd.DataFrame({\"imp\": model.feature_importances_,\n",
    "                                 \"col\": data.columns})\n",
    "        # Sort the dictionary\n",
    "        feat_imp = feat_imp.sort_values([\"imp\",\"col\"],\n",
    "                                        ascending=[True, False]).iloc[-30:]\n",
    "        \n",
    "        # Create plot\n",
    "        _ = feat_imp.plot(kind=\"barh\",\n",
    "                          x=\"col\",\n",
    "                          y=\"imp\",\n",
    "                          figsize=(20,10))      "
   ]
  },
  {
   "cell_type": "code",
   "execution_count": null,
   "metadata": {},
   "outputs": [],
   "source": [
    "models_list = [best_clf_model, best_rfc_model, catboost_model]\n",
    "\n",
    "plot_feature_importance(models_list, X_train_dm)"
   ]
  },
  {
   "cell_type": "markdown",
   "metadata": {},
   "source": [
    "# Let's try preprocess our data with OneHotEncoder and see if that change something"
   ]
  },
  {
   "cell_type": "code",
   "execution_count": 5,
   "metadata": {},
   "outputs": [
    {
     "data": {
      "text/html": [
       "<div>\n",
       "<style scoped>\n",
       "    .dataframe tbody tr th:only-of-type {\n",
       "        vertical-align: middle;\n",
       "    }\n",
       "\n",
       "    .dataframe tbody tr th {\n",
       "        vertical-align: top;\n",
       "    }\n",
       "\n",
       "    .dataframe thead th {\n",
       "        text-align: right;\n",
       "    }\n",
       "</style>\n",
       "<table border=\"1\" class=\"dataframe\">\n",
       "  <thead>\n",
       "    <tr style=\"text-align: right;\">\n",
       "      <th></th>\n",
       "      <th>Survived</th>\n",
       "      <th>Pclass</th>\n",
       "      <th>Age</th>\n",
       "      <th>SibSp</th>\n",
       "      <th>Parch</th>\n",
       "      <th>Fare</th>\n",
       "      <th>Embarked</th>\n",
       "      <th>Title</th>\n",
       "      <th>Person</th>\n",
       "    </tr>\n",
       "  </thead>\n",
       "  <tbody>\n",
       "    <tr>\n",
       "      <th>0</th>\n",
       "      <td>0</td>\n",
       "      <td>3</td>\n",
       "      <td>22.0</td>\n",
       "      <td>1</td>\n",
       "      <td>0</td>\n",
       "      <td>7.2500</td>\n",
       "      <td>S</td>\n",
       "      <td>Mr</td>\n",
       "      <td>male</td>\n",
       "    </tr>\n",
       "    <tr>\n",
       "      <th>1</th>\n",
       "      <td>1</td>\n",
       "      <td>1</td>\n",
       "      <td>38.0</td>\n",
       "      <td>1</td>\n",
       "      <td>0</td>\n",
       "      <td>71.2833</td>\n",
       "      <td>C</td>\n",
       "      <td>Mrs</td>\n",
       "      <td>female</td>\n",
       "    </tr>\n",
       "    <tr>\n",
       "      <th>2</th>\n",
       "      <td>1</td>\n",
       "      <td>3</td>\n",
       "      <td>26.0</td>\n",
       "      <td>0</td>\n",
       "      <td>0</td>\n",
       "      <td>7.9250</td>\n",
       "      <td>S</td>\n",
       "      <td>Miss</td>\n",
       "      <td>female</td>\n",
       "    </tr>\n",
       "    <tr>\n",
       "      <th>3</th>\n",
       "      <td>1</td>\n",
       "      <td>1</td>\n",
       "      <td>35.0</td>\n",
       "      <td>1</td>\n",
       "      <td>0</td>\n",
       "      <td>53.1000</td>\n",
       "      <td>S</td>\n",
       "      <td>Mrs</td>\n",
       "      <td>female</td>\n",
       "    </tr>\n",
       "    <tr>\n",
       "      <th>4</th>\n",
       "      <td>0</td>\n",
       "      <td>3</td>\n",
       "      <td>35.0</td>\n",
       "      <td>0</td>\n",
       "      <td>0</td>\n",
       "      <td>8.0500</td>\n",
       "      <td>S</td>\n",
       "      <td>Mr</td>\n",
       "      <td>male</td>\n",
       "    </tr>\n",
       "  </tbody>\n",
       "</table>\n",
       "</div>"
      ],
      "text/plain": [
       "   Survived  Pclass   Age  SibSp  Parch     Fare Embarked Title  Person\n",
       "0         0       3  22.0      1      0   7.2500        S    Mr    male\n",
       "1         1       1  38.0      1      0  71.2833        C   Mrs  female\n",
       "2         1       3  26.0      0      0   7.9250        S  Miss  female\n",
       "3         1       1  35.0      1      0  53.1000        S   Mrs  female\n",
       "4         0       3  35.0      0      0   8.0500        S    Mr    male"
      ]
     },
     "execution_count": 5,
     "metadata": {},
     "output_type": "execute_result"
    }
   ],
   "source": [
    "train2.head()"
   ]
  },
  {
   "cell_type": "code",
   "execution_count": 6,
   "metadata": {},
   "outputs": [
    {
     "data": {
      "text/html": [
       "<div>\n",
       "<style scoped>\n",
       "    .dataframe tbody tr th:only-of-type {\n",
       "        vertical-align: middle;\n",
       "    }\n",
       "\n",
       "    .dataframe tbody tr th {\n",
       "        vertical-align: top;\n",
       "    }\n",
       "\n",
       "    .dataframe thead th {\n",
       "        text-align: right;\n",
       "    }\n",
       "</style>\n",
       "<table border=\"1\" class=\"dataframe\">\n",
       "  <thead>\n",
       "    <tr style=\"text-align: right;\">\n",
       "      <th></th>\n",
       "      <th>PassengerId</th>\n",
       "      <th>Pclass</th>\n",
       "      <th>Age</th>\n",
       "      <th>SibSp</th>\n",
       "      <th>Parch</th>\n",
       "      <th>Fare</th>\n",
       "      <th>Embarked</th>\n",
       "      <th>Title</th>\n",
       "      <th>Person</th>\n",
       "    </tr>\n",
       "  </thead>\n",
       "  <tbody>\n",
       "    <tr>\n",
       "      <th>0</th>\n",
       "      <td>892</td>\n",
       "      <td>3</td>\n",
       "      <td>34.5</td>\n",
       "      <td>0</td>\n",
       "      <td>0</td>\n",
       "      <td>7.8292</td>\n",
       "      <td>Q</td>\n",
       "      <td>Mr</td>\n",
       "      <td>male</td>\n",
       "    </tr>\n",
       "    <tr>\n",
       "      <th>1</th>\n",
       "      <td>893</td>\n",
       "      <td>3</td>\n",
       "      <td>47.0</td>\n",
       "      <td>1</td>\n",
       "      <td>0</td>\n",
       "      <td>7.0000</td>\n",
       "      <td>S</td>\n",
       "      <td>Mrs</td>\n",
       "      <td>female</td>\n",
       "    </tr>\n",
       "    <tr>\n",
       "      <th>2</th>\n",
       "      <td>894</td>\n",
       "      <td>2</td>\n",
       "      <td>62.0</td>\n",
       "      <td>0</td>\n",
       "      <td>0</td>\n",
       "      <td>9.6875</td>\n",
       "      <td>Q</td>\n",
       "      <td>Mr</td>\n",
       "      <td>male</td>\n",
       "    </tr>\n",
       "    <tr>\n",
       "      <th>3</th>\n",
       "      <td>895</td>\n",
       "      <td>3</td>\n",
       "      <td>27.0</td>\n",
       "      <td>0</td>\n",
       "      <td>0</td>\n",
       "      <td>8.6625</td>\n",
       "      <td>S</td>\n",
       "      <td>Mr</td>\n",
       "      <td>male</td>\n",
       "    </tr>\n",
       "    <tr>\n",
       "      <th>4</th>\n",
       "      <td>896</td>\n",
       "      <td>3</td>\n",
       "      <td>22.0</td>\n",
       "      <td>1</td>\n",
       "      <td>1</td>\n",
       "      <td>12.2875</td>\n",
       "      <td>S</td>\n",
       "      <td>Mrs</td>\n",
       "      <td>female</td>\n",
       "    </tr>\n",
       "  </tbody>\n",
       "</table>\n",
       "</div>"
      ],
      "text/plain": [
       "   PassengerId  Pclass   Age  SibSp  Parch     Fare Embarked Title  Person\n",
       "0          892       3  34.5      0      0   7.8292        Q    Mr    male\n",
       "1          893       3  47.0      1      0   7.0000        S   Mrs  female\n",
       "2          894       2  62.0      0      0   9.6875        Q    Mr    male\n",
       "3          895       3  27.0      0      0   8.6625        S    Mr    male\n",
       "4          896       3  22.0      1      1  12.2875        S   Mrs  female"
      ]
     },
     "execution_count": 6,
     "metadata": {},
     "output_type": "execute_result"
    }
   ],
   "source": [
    "test2.head()"
   ]
  },
  {
   "cell_type": "markdown",
   "metadata": {},
   "source": [
    "**One way how we can do it:**"
   ]
  },
  {
   "cell_type": "code",
   "execution_count": 7,
   "metadata": {},
   "outputs": [],
   "source": [
    "train2[\"Family\"] = train2[\"SibSp\"] + train2[\"Parch\"]\n",
    "test2[\"Family\"] = test2[\"SibSp\"] + test2[\"Parch\"]\n",
    "\n",
    "train2.drop([\"SibSp\", \"Parch\"], axis=1, inplace=True)\n",
    "test2.drop([\"SibSp\", \"Parch\"], axis=1, inplace=True)"
   ]
  },
  {
   "cell_type": "code",
   "execution_count": 8,
   "metadata": {},
   "outputs": [],
   "source": [
    "train2_col = ['Pclass', 'Embarked', 'Title', 'Person',\n",
    "       'Family']"
   ]
  },
  {
   "cell_type": "code",
   "execution_count": 9,
   "metadata": {},
   "outputs": [],
   "source": [
    "train2_con = train2[train2_col]\n",
    "\n",
    "train2_con = train2_con.apply(LabelEncoder().fit_transform)"
   ]
  },
  {
   "cell_type": "code",
   "execution_count": 10,
   "metadata": {},
   "outputs": [],
   "source": [
    "train2_con[\"Age\"] = train2[\"Age\"]\n",
    "train2_con[\"Fare\"] = train2[\"Fare\"]\n",
    "\n",
    "# train2_con[\"Age\"] = MinMaxScaler().fit_transform(train2[[\"Age\"]])\n",
    "# train2_con[\"Fare\"] = MinMaxScaler().fit_transform(train2[[\"Fare\"]])"
   ]
  },
  {
   "cell_type": "code",
   "execution_count": 11,
   "metadata": {},
   "outputs": [],
   "source": [
    "test2_col = ['Pclass', 'Embarked', 'Title', 'Person',\n",
    "       'Family']"
   ]
  },
  {
   "cell_type": "code",
   "execution_count": 12,
   "metadata": {},
   "outputs": [],
   "source": [
    "test2_con = test2[test2_col]\n",
    "\n",
    "test2_con = test2_con.apply(LabelEncoder().fit_transform)\n",
    "\n",
    "test2_con[\"Age\"] = test2[\"Age\"]\n",
    "test2_con[\"Fare\"] = test2[\"Fare\"]\n",
    "\n",
    "# test2_con[\"Age\"] = MinMaxScaler().fit_transform(test2[[\"Age\"]])\n",
    "# test2_con[\"Fare\"] = MinMaxScaler().fit_transform(test2[[\"Fare\"]])"
   ]
  },
  {
   "cell_type": "code",
   "execution_count": 13,
   "metadata": {},
   "outputs": [
    {
     "data": {
      "text/html": [
       "<div>\n",
       "<style scoped>\n",
       "    .dataframe tbody tr th:only-of-type {\n",
       "        vertical-align: middle;\n",
       "    }\n",
       "\n",
       "    .dataframe tbody tr th {\n",
       "        vertical-align: top;\n",
       "    }\n",
       "\n",
       "    .dataframe thead th {\n",
       "        text-align: right;\n",
       "    }\n",
       "</style>\n",
       "<table border=\"1\" class=\"dataframe\">\n",
       "  <thead>\n",
       "    <tr style=\"text-align: right;\">\n",
       "      <th></th>\n",
       "      <th>Pclass</th>\n",
       "      <th>Embarked</th>\n",
       "      <th>Title</th>\n",
       "      <th>Person</th>\n",
       "      <th>Family</th>\n",
       "      <th>Age</th>\n",
       "      <th>Fare</th>\n",
       "    </tr>\n",
       "  </thead>\n",
       "  <tbody>\n",
       "    <tr>\n",
       "      <th>0</th>\n",
       "      <td>2</td>\n",
       "      <td>1</td>\n",
       "      <td>2</td>\n",
       "      <td>2</td>\n",
       "      <td>0</td>\n",
       "      <td>34.5</td>\n",
       "      <td>7.8292</td>\n",
       "    </tr>\n",
       "    <tr>\n",
       "      <th>1</th>\n",
       "      <td>2</td>\n",
       "      <td>2</td>\n",
       "      <td>3</td>\n",
       "      <td>1</td>\n",
       "      <td>1</td>\n",
       "      <td>47.0</td>\n",
       "      <td>7.0000</td>\n",
       "    </tr>\n",
       "    <tr>\n",
       "      <th>2</th>\n",
       "      <td>1</td>\n",
       "      <td>1</td>\n",
       "      <td>2</td>\n",
       "      <td>2</td>\n",
       "      <td>0</td>\n",
       "      <td>62.0</td>\n",
       "      <td>9.6875</td>\n",
       "    </tr>\n",
       "    <tr>\n",
       "      <th>3</th>\n",
       "      <td>2</td>\n",
       "      <td>2</td>\n",
       "      <td>2</td>\n",
       "      <td>2</td>\n",
       "      <td>0</td>\n",
       "      <td>27.0</td>\n",
       "      <td>8.6625</td>\n",
       "    </tr>\n",
       "    <tr>\n",
       "      <th>4</th>\n",
       "      <td>2</td>\n",
       "      <td>2</td>\n",
       "      <td>3</td>\n",
       "      <td>1</td>\n",
       "      <td>2</td>\n",
       "      <td>22.0</td>\n",
       "      <td>12.2875</td>\n",
       "    </tr>\n",
       "  </tbody>\n",
       "</table>\n",
       "</div>"
      ],
      "text/plain": [
       "   Pclass  Embarked  Title  Person  Family   Age     Fare\n",
       "0       2         1      2       2       0  34.5   7.8292\n",
       "1       2         2      3       1       1  47.0   7.0000\n",
       "2       1         1      2       2       0  62.0   9.6875\n",
       "3       2         2      2       2       0  27.0   8.6625\n",
       "4       2         2      3       1       2  22.0  12.2875"
      ]
     },
     "execution_count": 13,
     "metadata": {},
     "output_type": "execute_result"
    }
   ],
   "source": [
    "test2_con.head()"
   ]
  },
  {
   "cell_type": "code",
   "execution_count": 14,
   "metadata": {},
   "outputs": [
    {
     "data": {
      "text/html": [
       "<div>\n",
       "<style scoped>\n",
       "    .dataframe tbody tr th:only-of-type {\n",
       "        vertical-align: middle;\n",
       "    }\n",
       "\n",
       "    .dataframe tbody tr th {\n",
       "        vertical-align: top;\n",
       "    }\n",
       "\n",
       "    .dataframe thead th {\n",
       "        text-align: right;\n",
       "    }\n",
       "</style>\n",
       "<table border=\"1\" class=\"dataframe\">\n",
       "  <thead>\n",
       "    <tr style=\"text-align: right;\">\n",
       "      <th></th>\n",
       "      <th>Survived</th>\n",
       "      <th>Pclass</th>\n",
       "      <th>Embarked</th>\n",
       "      <th>Title</th>\n",
       "      <th>Person</th>\n",
       "      <th>Family</th>\n",
       "      <th>Age</th>\n",
       "      <th>Fare</th>\n",
       "    </tr>\n",
       "  </thead>\n",
       "  <tbody>\n",
       "    <tr>\n",
       "      <th>0</th>\n",
       "      <td>0</td>\n",
       "      <td>2</td>\n",
       "      <td>2</td>\n",
       "      <td>2</td>\n",
       "      <td>2</td>\n",
       "      <td>1</td>\n",
       "      <td>22.0</td>\n",
       "      <td>7.2500</td>\n",
       "    </tr>\n",
       "    <tr>\n",
       "      <th>1</th>\n",
       "      <td>1</td>\n",
       "      <td>0</td>\n",
       "      <td>0</td>\n",
       "      <td>3</td>\n",
       "      <td>1</td>\n",
       "      <td>1</td>\n",
       "      <td>38.0</td>\n",
       "      <td>71.2833</td>\n",
       "    </tr>\n",
       "    <tr>\n",
       "      <th>2</th>\n",
       "      <td>1</td>\n",
       "      <td>2</td>\n",
       "      <td>2</td>\n",
       "      <td>1</td>\n",
       "      <td>1</td>\n",
       "      <td>0</td>\n",
       "      <td>26.0</td>\n",
       "      <td>7.9250</td>\n",
       "    </tr>\n",
       "    <tr>\n",
       "      <th>3</th>\n",
       "      <td>1</td>\n",
       "      <td>0</td>\n",
       "      <td>2</td>\n",
       "      <td>3</td>\n",
       "      <td>1</td>\n",
       "      <td>1</td>\n",
       "      <td>35.0</td>\n",
       "      <td>53.1000</td>\n",
       "    </tr>\n",
       "    <tr>\n",
       "      <th>4</th>\n",
       "      <td>0</td>\n",
       "      <td>2</td>\n",
       "      <td>2</td>\n",
       "      <td>2</td>\n",
       "      <td>2</td>\n",
       "      <td>0</td>\n",
       "      <td>35.0</td>\n",
       "      <td>8.0500</td>\n",
       "    </tr>\n",
       "  </tbody>\n",
       "</table>\n",
       "</div>"
      ],
      "text/plain": [
       "   Survived  Pclass  Embarked  Title  Person  Family   Age     Fare\n",
       "0         0       2         2      2       2       1  22.0   7.2500\n",
       "1         1       0         0      3       1       1  38.0  71.2833\n",
       "2         1       2         2      1       1       0  26.0   7.9250\n",
       "3         1       0         2      3       1       1  35.0  53.1000\n",
       "4         0       2         2      2       2       0  35.0   8.0500"
      ]
     },
     "execution_count": 14,
     "metadata": {},
     "output_type": "execute_result"
    }
   ],
   "source": [
    "train2_con.head()"
   ]
  },
  {
   "cell_type": "code",
   "execution_count": 15,
   "metadata": {},
   "outputs": [],
   "source": [
    "# Split train2_con into X_train and y_train\n",
    "X_train2 = train2_con\n",
    "y_train2 = train2[\"Survived\"]\n",
    "X_test2 = test2_con"
   ]
  },
  {
   "cell_type": "code",
   "execution_count": 16,
   "metadata": {},
   "outputs": [
    {
     "data": {
      "text/plain": [
       "(418, 7)"
      ]
     },
     "execution_count": 16,
     "metadata": {},
     "output_type": "execute_result"
    }
   ],
   "source": [
    "X_test2.shape"
   ]
  },
  {
   "cell_type": "code",
   "execution_count": 17,
   "metadata": {},
   "outputs": [
    {
     "data": {
      "text/plain": [
       "(891, 7)"
      ]
     },
     "execution_count": 17,
     "metadata": {},
     "output_type": "execute_result"
    }
   ],
   "source": [
    "X_train2.shape"
   ]
  },
  {
   "cell_type": "code",
   "execution_count": 18,
   "metadata": {},
   "outputs": [
    {
     "data": {
      "text/plain": [
       "(891,)"
      ]
     },
     "execution_count": 18,
     "metadata": {},
     "output_type": "execute_result"
    }
   ],
   "source": [
    "y_train2.shape"
   ]
  },
  {
   "cell_type": "code",
   "execution_count": 19,
   "metadata": {},
   "outputs": [
    {
     "name": "stdout",
     "output_type": "stream",
     "text": [
      "Best Accuracy: 85.3%\n",
      "Best Accuracy: 82.94%\n"
     ]
    }
   ],
   "source": [
    "# Instantiate model\n",
    "rfc_model2 = RandomForestClassifier(n_estimators=10,\n",
    "                                   max_features=\"auto\",\n",
    "                                   min_samples_split=16,\n",
    "                                   min_samples_leaf=1,\n",
    "                                   random_state=45,\n",
    "                                   max_depth=4)\n",
    "# Fit data\n",
    "rfc_model2.fit(X_train2, y_train2)\n",
    "\n",
    "# Accuracy with best parameters\n",
    "rfc_acc2 = round(rfc_model2.score(X_train2, y_train2)*100,2)\n",
    "\n",
    "# Accuracy with cross validation\n",
    "rfc_pred2 = cross_val_predict(rfc_model2,\n",
    "                              X_train2,\n",
    "                              y_train2,\n",
    "                              n_jobs=-1,\n",
    "                              cv=10)\n",
    "\n",
    "# Cross validation score\n",
    "rfc_cv_acc2 = round(accuracy_score(y_train2, rfc_pred2)*100,2)\n",
    "\n",
    "print(f\"Best Accuracy: {rfc_acc2}%\")\n",
    "print(f\"Best Accuracy: {rfc_cv_acc2}%\")"
   ]
  },
  {
   "cell_type": "code",
   "execution_count": 20,
   "metadata": {},
   "outputs": [
    {
     "name": "stdout",
     "output_type": "stream",
     "text": [
      "Fitting 3 folds for each of 2673 candidates, totalling 8019 fits\n"
     ]
    },
    {
     "name": "stderr",
     "output_type": "stream",
     "text": [
      "[Parallel(n_jobs=-1)]: Using backend LokyBackend with 4 concurrent workers.\n",
      "[Parallel(n_jobs=-1)]: Done  76 tasks      | elapsed:    2.6s\n",
      "[Parallel(n_jobs=-1)]: Done 376 tasks      | elapsed:   13.5s\n",
      "[Parallel(n_jobs=-1)]: Done 876 tasks      | elapsed:   31.5s\n",
      "[Parallel(n_jobs=-1)]: Done 1576 tasks      | elapsed:   58.7s\n",
      "[Parallel(n_jobs=-1)]: Done 2476 tasks      | elapsed:  1.6min\n",
      "[Parallel(n_jobs=-1)]: Done 3576 tasks      | elapsed:  2.4min\n",
      "[Parallel(n_jobs=-1)]: Done 4876 tasks      | elapsed:  3.4min\n",
      "[Parallel(n_jobs=-1)]: Done 6376 tasks      | elapsed:  4.5min\n",
      "[Parallel(n_jobs=-1)]: Done 8012 out of 8019 | elapsed:  5.8min remaining:    0.3s\n",
      "[Parallel(n_jobs=-1)]: Done 8019 out of 8019 | elapsed:  5.8min finished\n"
     ]
    },
    {
     "data": {
      "text/plain": [
       "GridSearchCV(cv=3, error_score=nan,\n",
       "             estimator=RandomForestClassifier(bootstrap=True, ccp_alpha=0.0,\n",
       "                                              class_weight=None,\n",
       "                                              criterion='gini', max_depth=4,\n",
       "                                              max_features='auto',\n",
       "                                              max_leaf_nodes=None,\n",
       "                                              max_samples=None,\n",
       "                                              min_impurity_decrease=0.0,\n",
       "                                              min_impurity_split=None,\n",
       "                                              min_samples_leaf=1,\n",
       "                                              min_samples_split=16,\n",
       "                                              min_weight_fraction_leaf=0.0,\n",
       "                                              n_estimators=10, n_jobs=None,\n",
       "                                              oob...\n",
       "                                              verbose=0, warm_start=False),\n",
       "             iid='deprecated', n_jobs=-1,\n",
       "             param_grid={'max_depth': [2, 3, 4],\n",
       "                         'max_features': ['auto', 'sqrt', 'log2'],\n",
       "                         'min_samples_leaf': [1, 2, 4],\n",
       "                         'min_samples_split': array([ 2,  4,  6,  8, 10, 12, 14, 16, 18]),\n",
       "                         'n_estimators': array([ 10,  20,  30,  40,  50,  60,  70,  80,  90, 100, 110])},\n",
       "             pre_dispatch='2*n_jobs', refit=True, return_train_score=False,\n",
       "             scoring='accuracy', verbose=1)"
      ]
     },
     "execution_count": 20,
     "metadata": {},
     "output_type": "execute_result"
    }
   ],
   "source": [
    "rfc_params = {\"n_estimators\": np.arange(10,120, 10),\n",
    "                 \"min_samples_split\": np.arange(2,20, 2),\n",
    "                 \"min_samples_leaf\": [1,2,4],\n",
    "                 \"max_depth\": [2,3,4],\n",
    "                 \"max_features\": [\"auto\", \"sqrt\",\"log2\"]}\n",
    "\n",
    "# Instantiate GridSearchCV\n",
    "rfc_grid2 = GridSearchCV(rfc_model2,\n",
    "                        param_grid=rfc_params,\n",
    "                        scoring=\"accuracy\",\n",
    "                        verbose=1,\n",
    "                        n_jobs=-1,\n",
    "                        cv=3)\n",
    "# Fit GridsearchCV\n",
    "rfc_grid2.fit(X_train2, y_train2)"
   ]
  },
  {
   "cell_type": "code",
   "execution_count": 21,
   "metadata": {},
   "outputs": [
    {
     "data": {
      "text/plain": [
       "{'max_depth': 4,\n",
       " 'max_features': 'auto',\n",
       " 'min_samples_leaf': 1,\n",
       " 'min_samples_split': 12,\n",
       " 'n_estimators': 10}"
      ]
     },
     "execution_count": 21,
     "metadata": {},
     "output_type": "execute_result"
    }
   ],
   "source": [
    "rfc_grid2.best_params_"
   ]
  },
  {
   "cell_type": "code",
   "execution_count": 22,
   "metadata": {},
   "outputs": [
    {
     "data": {
      "text/plain": [
       "0.8271604938271605"
      ]
     },
     "execution_count": 22,
     "metadata": {},
     "output_type": "execute_result"
    }
   ],
   "source": [
    "rfc_grid2.best_score_"
   ]
  },
  {
   "cell_type": "code",
   "execution_count": 25,
   "metadata": {},
   "outputs": [
    {
     "name": "stdout",
     "output_type": "stream",
     "text": [
      "Best Accuracy: 84.74%\n",
      "Best Accuracy: 83.05%\n"
     ]
    }
   ],
   "source": [
    "# Instantiate model\n",
    "best_rfc_model2 = RandomForestClassifier(n_estimators=10,\n",
    "                                        # class_weight=\"balanced\",\n",
    "                                        max_features=\"auto\",\n",
    "                                        min_samples_split=12,\n",
    "                                        min_samples_leaf=1,\n",
    "                                        random_state=45,\n",
    "                                        max_depth=4)\n",
    "# Fit data\n",
    "best_rfc_model2.fit(X_train2, y_train2)\n",
    "\n",
    "# Accuracy with best parameters\n",
    "best_acc2 = round(best_rfc_model2.score(X_train2, y_train2)*100,2)\n",
    "\n",
    "# Accuracy with cross validation\n",
    "rfc_pred2 = cross_val_predict(best_rfc_model2,\n",
    "                              X_train2,\n",
    "                              y_train2,\n",
    "                              n_jobs=-1,\n",
    "                              cv=10)\n",
    "\n",
    "# Cross validation score\n",
    "rfc_cv_acc2 = round(accuracy_score(y_train2, rfc_pred2)*100,2)\n",
    "\n",
    "print(f\"Best Accuracy: {best_acc2}%\")\n",
    "print(f\"Best Accuracy: {rfc_cv_acc2}%\")"
   ]
  },
  {
   "cell_type": "code",
   "execution_count": null,
   "metadata": {},
   "outputs": [],
   "source": []
  },
  {
   "cell_type": "code",
   "execution_count": 26,
   "metadata": {},
   "outputs": [
    {
     "name": "stdout",
     "output_type": "stream",
     "text": [
      "Base Accuracy: 90.35\n",
      "Base Accuracy with cv=10: 82.94 \n"
     ]
    }
   ],
   "source": [
    "# Create Base model\n",
    "clf_model2 = GradientBoostingClassifier(random_state=45).fit(X_train2, y_train2)\n",
    "\n",
    "# Accuracy\n",
    "acc_clf = round(clf_model2.score(X_train2, y_train2)*100,2)\n",
    "\n",
    "# Cross Validation with 10-folds\n",
    "train_pred2 = cross_val_predict(clf_model2,\n",
    "                                X_train2,\n",
    "                                y_train2,\n",
    "                                n_jobs=-1,\n",
    "                                cv=10)\n",
    "\n",
    "acc_cv_clf = round(accuracy_score(y_train2, train_pred2)*100,2)\n",
    "\n",
    "print(f\"Base Accuracy: {acc_clf}\")\n",
    "print(f\"Base Accuracy with cv=10: {acc_cv_clf} \")"
   ]
  },
  {
   "cell_type": "code",
   "execution_count": 27,
   "metadata": {},
   "outputs": [
    {
     "name": "stdout",
     "output_type": "stream",
     "text": [
      "Fitting 3 folds for each of 2673 candidates, totalling 8019 fits\n"
     ]
    },
    {
     "name": "stderr",
     "output_type": "stream",
     "text": [
      "[Parallel(n_jobs=-1)]: Using backend LokyBackend with 4 concurrent workers.\n",
      "[Parallel(n_jobs=-1)]: Done 128 tasks      | elapsed:    2.2s\n",
      "[Parallel(n_jobs=-1)]: Done 728 tasks      | elapsed:   12.3s\n",
      "[Parallel(n_jobs=-1)]: Done 1728 tasks      | elapsed:   27.7s\n",
      "[Parallel(n_jobs=-1)]: Done 3128 tasks      | elapsed:   54.3s\n",
      "[Parallel(n_jobs=-1)]: Done 4928 tasks      | elapsed:  1.6min\n",
      "[Parallel(n_jobs=-1)]: Done 7128 tasks      | elapsed:  2.6min\n",
      "[Parallel(n_jobs=-1)]: Done 8019 out of 8019 | elapsed:  3.1min finished\n"
     ]
    },
    {
     "data": {
      "text/plain": [
       "GridSearchCV(cv=3, error_score=nan,\n",
       "             estimator=GradientBoostingClassifier(ccp_alpha=0.0,\n",
       "                                                  criterion='friedman_mse',\n",
       "                                                  init=None, learning_rate=0.1,\n",
       "                                                  loss='deviance', max_depth=3,\n",
       "                                                  max_features=None,\n",
       "                                                  max_leaf_nodes=None,\n",
       "                                                  min_impurity_decrease=0.0,\n",
       "                                                  min_impurity_split=None,\n",
       "                                                  min_samples_leaf=1,\n",
       "                                                  min_samples_split=2,\n",
       "                                                  min_weight_fraction_leaf=0.0,\n",
       "                                                  n_estimators=100,\n",
       "                                                  n_iter_no_c...\n",
       "                                                  verbose=0, warm_start=False),\n",
       "             iid='deprecated', n_jobs=-1,\n",
       "             param_grid={'max_depth': [2, 3, 4],\n",
       "                         'max_features': ['auto', 'sqrt', 'log2'],\n",
       "                         'min_samples_leaf': [1, 2, 4],\n",
       "                         'min_samples_split': array([ 2,  4,  6,  8, 10, 12, 14, 16, 18]),\n",
       "                         'n_estimators': array([ 10,  20,  30,  40,  50,  60,  70,  80,  90, 100, 110])},\n",
       "             pre_dispatch='2*n_jobs', refit=True, return_train_score=False,\n",
       "             scoring='accuracy', verbose=1)"
      ]
     },
     "execution_count": 27,
     "metadata": {},
     "output_type": "execute_result"
    }
   ],
   "source": [
    "# Parameters\n",
    "clf_params_gs = {\"n_estimators\": np.arange(10,120, 10),\n",
    "                 \"min_samples_split\": np.arange(2,20, 2),\n",
    "                 \"min_samples_leaf\": [1,2,4],\n",
    "                 \"max_depth\": [2,3,4],\n",
    "                 \"max_features\": [\"auto\", \"sqrt\",\"log2\"]}\n",
    "\n",
    "# Instantiate GridSearchCV\n",
    "clf_grid2 = GridSearchCV(clf_model2,\n",
    "                         param_grid=clf_params_gs,\n",
    "                         scoring=\"accuracy\",\n",
    "                         verbose=1,\n",
    "                         n_jobs=-1,\n",
    "                         cv=3)\n",
    "# Fit GridSearchCV\n",
    "clf_grid2.fit(X_train2, y_train2)"
   ]
  },
  {
   "cell_type": "code",
   "execution_count": null,
   "metadata": {},
   "outputs": [],
   "source": [
    "clf_grid2.best_params_"
   ]
  },
  {
   "cell_type": "code",
   "execution_count": null,
   "metadata": {},
   "outputs": [],
   "source": [
    "clf_grid2.best_score_"
   ]
  },
  {
   "cell_type": "code",
   "execution_count": null,
   "metadata": {},
   "outputs": [],
   "source": [
    "best_clf_model2 = GradientBoostingClassifier(n_estimators=10,\n",
    "                                             max_features=\"sqrt\",\n",
    "                                             min_samples_split=18,\n",
    "                                             min_samples_leaf=2,\n",
    "                                             random_state=45,\n",
    "                                             max_depth=4)\n",
    "\n",
    "# Fit model\n",
    "best_clf_model2.fit(X_train2, y_train2)\n",
    "# Best prediction parameters model\n",
    "gbc_predictions2 = best_clf_model2.predict(X_test2)\n",
    "\n",
    "# Cross Validation \n",
    "best_cv_pred2 = cross_val_predict(best_clf_model2,\n",
    "                                 X_train2,\n",
    "                                 y_train2,\n",
    "                                 n_jobs=-1,\n",
    "                                 cv=10)\n",
    "# Accuracy score\n",
    "clf_cv_acc2 = round(accuracy_score(y_train2, best_cv_pred2)*100, 2)\n",
    "clf_cv_acc2"
   ]
  },
  {
   "cell_type": "code",
   "execution_count": null,
   "metadata": {},
   "outputs": [],
   "source": []
  },
  {
   "cell_type": "markdown",
   "metadata": {},
   "source": [
    "**Catboost again but with option2**"
   ]
  },
  {
   "cell_type": "code",
   "execution_count": null,
   "metadata": {},
   "outputs": [],
   "source": [
    "cat_feature = np.where(X_train2.dtypes !=np.float)[0]\n",
    "\n",
    "train_pool = Pool(X_train2, \n",
    "                  y_train2,\n",
    "                  cat_feature)\n",
    "\n",
    "catboost_model = CatBoostClassifier(iterations=1000,\n",
    "                                    custom_loss=[\"Accuracy\"],\n",
    "                                    loss_function=\"Logloss\")\n",
    "\n",
    "catboost_model.fit(train_pool, plot=True)\n",
    "\n",
    "acc_catboost2 = round(catboost_model.score(X_train2, y_train2)*100, 2)"
   ]
  },
  {
   "cell_type": "code",
   "execution_count": null,
   "metadata": {},
   "outputs": [],
   "source": [
    "acc_catboost2"
   ]
  },
  {
   "cell_type": "code",
   "execution_count": null,
   "metadata": {},
   "outputs": [],
   "source": [
    "# Run Cross validation for 10 folds\n",
    "cv_params = catboost_model.get_params()\n",
    "\n",
    "cv_data = cv(train_pool, \n",
    "             cv_params,\n",
    "             fold_count=10,\n",
    "             plot=True)\n",
    "\n",
    "# Accuracy score\n",
    "cat_cv_acc2 = round(np.max(cv_data[\"test-Accuracy-mean\"])*100, 2)"
   ]
  },
  {
   "cell_type": "code",
   "execution_count": null,
   "metadata": {},
   "outputs": [],
   "source": [
    "# Create a table with all scores\n",
    "models = pd.DataFrame({\n",
    "    \"Model\": [\"Gradient Boost\",\"Random Forest2\", \"CatBoost\"],\n",
    "    \"Score\": [clf_cv_acc2, \n",
    "              rfc_cv_acc2, \n",
    "              cat_cv_acc2]\n",
    "})\n",
    "\n",
    "models.sort_values(by=\"Score\", \n",
    "                   ascending=False,\n",
    "                   ignore_index=True)"
   ]
  },
  {
   "cell_type": "markdown",
   "metadata": {},
   "source": [
    "**But I want use LabelEncoder on specific columns**"
   ]
  },
  {
   "cell_type": "code",
   "execution_count": null,
   "metadata": {},
   "outputs": [],
   "source": [
    "train.head()"
   ]
  },
  {
   "cell_type": "code",
   "execution_count": null,
   "metadata": {},
   "outputs": [],
   "source": [
    "# gbc_predictions"
   ]
  },
  {
   "cell_type": "code",
   "execution_count": null,
   "metadata": {},
   "outputs": [],
   "source": [
    "new_submission = pd.DataFrame()\n",
    "new_submission[\"PassengerId\"] = passengerId\n",
    "new_submission[\"Survived\"] = gbc_predictions\n",
    "new_submission[\"Survived\"] = new_submission[\"Survived\"].astype(int)\n",
    "new_submission.to_csv(\"kaggle _submissions/new_gbc_submission.csv\", index=False)"
   ]
  },
  {
   "cell_type": "code",
   "execution_count": null,
   "metadata": {},
   "outputs": [],
   "source": []
  },
  {
   "cell_type": "code",
   "execution_count": null,
   "metadata": {},
   "outputs": [],
   "source": []
  },
  {
   "cell_type": "markdown",
   "metadata": {},
   "source": [
    ">Think how to do it with OneHotEncoder"
   ]
  },
  {
   "cell_type": "code",
   "execution_count": null,
   "metadata": {},
   "outputs": [],
   "source": []
  }
 ],
 "metadata": {
  "kernelspec": {
   "display_name": "Python 3",
   "language": "python",
   "name": "python3"
  },
  "language_info": {
   "codemirror_mode": {
    "name": "ipython",
    "version": 3
   },
   "file_extension": ".py",
   "mimetype": "text/x-python",
   "name": "python",
   "nbconvert_exporter": "python",
   "pygments_lexer": "ipython3",
   "version": "3.7.7"
  }
 },
 "nbformat": 4,
 "nbformat_minor": 4
}
